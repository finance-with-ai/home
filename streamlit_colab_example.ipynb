{
 "cells": [
  {
   "cell_type": "markdown",
   "metadata": {},
   "source": [
    "# Running Streamlit on Google Colab with pyngrok"
   ]
  },
  {
   "cell_type": "code",
   "execution_count": null,
   "metadata": {},
   "outputs": [],
   "source": [
    "# Install required packages\n",
    "!pip install streamlit pyngrok"
   ]
  },
  {
   "cell_type": "code",
   "execution_count": null,
   "metadata": {},
   "outputs": [],
   "source": [
    "# Create a simple Streamlit app\n",
    "%%writefile app.py\n",
    "import streamlit as st\n",
    "import pandas as pd\n",
    "import numpy as np\n",
    "\n",
    "st.title('Streamlit on Google Colab')\n",
    "st.write('This app is running on Colab with pyngrok!')\n",
    "\n",
    "# Add some interactive elements\n",
    "number = st.slider('Select a number', 0, 100, 50)\n",
    "st.write(f'You selected: {number}')\n",
    "\n",
    "# Create sample data\n",
    "chart_data = pd.DataFrame(\n",
    "    np.random.randn(20, 3),\n",
    "    columns=['a', 'b', 'c']\n",
    ")\n",
    "\n",
    "st.line_chart(chart_data)"
   ]
  },
  {
   "cell_type": "code",
   "execution_count": null,
   "metadata": {},
   "outputs": [],
   "source": [
    "# Set up ngrok authentication (optional but recommended)\n",
    "# Get your free auth token from: https://dashboard.ngrok.com/get-started/your-authtoken\n",
    "from pyngrok import ngrok\n",
    "\n",
    "# Uncomment and add your token:\n",
    "# ngrok.set_auth_token('YOUR_NGROK_AUTH_TOKEN')"
   ]
  },
  {
   "cell_type": "code",
   "execution_count": null,
   "metadata": {},
   "outputs": [],
   "source": [
    "# Run Streamlit with pyngrok\n",
    "from pyngrok import ngrok\n",
    "import subprocess\n",
    "import threading\n",
    "\n",
    "def run_streamlit():\n",
    "    subprocess.run(['streamlit', 'run', 'app.py', '--server.port', '8501'])\n",
    "\n",
    "# Start Streamlit in background thread\n",
    "thread = threading.Thread(target=run_streamlit)\n",
    "thread.start()\n",
    "\n",
    "# Create ngrok tunnel\n",
    "public_url = ngrok.connect(8501)\n",
    "print(f'\\n✅ Streamlit app is running at: {public_url}')\n",
    "print('Click the link above to access your app!')"
   ]
  },
  {
   "cell_type": "code",
   "execution_count": null,
   "metadata": {},
   "outputs": [],
   "source": [
    "# Alternative: One-liner approach\n",
    "!streamlit run app.py &>/dev/null&\n",
    "\n",
    "from pyngrok import ngrok\n",
    "public_url = ngrok.connect(8501)\n",
    "print(f'Streamlit URL: {public_url}')"
   ]
  },
  {
   "cell_type": "code",
   "execution_count": null,
   "metadata": {},
   "outputs": [],
   "source": [
    "# To kill the tunnel when done\n",
    "ngrok.kill()"
   ]
  }
 ],
 "metadata": {
  "kernelspec": {
   "display_name": "Python 3",
   "language": "python",
   "name": "python3"
  },
  "language_info": {
   "codemirror_mode": {
    "name": "ipython",
    "version": 3
   },
   "file_extension": ".py",
   "mimetype": "text/x-python",
   "name": "python",
   "nbconvert_exporter": "python",
   "pygments_lexer": "ipython3",
   "version": "3.8.0"
  }
 },
 "nbformat": 4,
 "nbformat_minor": 4
}